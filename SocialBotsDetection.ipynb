{
 "cells": [
  {
   "cell_type": "markdown",
   "metadata": {},
   "source": [
    "## Social Bots Detection"
   ]
  },
  {
   "cell_type": "markdown",
   "metadata": {},
   "source": [
    "#### Content  \n",
    "Part 0: Prepare training dataset  \n",
    "Part 1: Feature engineering  \n",
    "Part 2: Build classification model (Xgboost)  \n",
    "Part 3: Model evaluation  \n",
    "Part 4: Load data and extract features using pyspark  \n",
    "Part 5: Prediction on test set  "
   ]
  },
  {
   "cell_type": "code",
   "execution_count": 2,
   "metadata": {},
   "outputs": [],
   "source": [
    "import pandas as pd\n",
    "from sklearn.model_selection import train_test_split\n",
    "from xgboost import XGBClassifier\n",
    "from sklearn.metrics import accuracy_score\n",
    "from sklearn.metrics import classification_report\n",
    "import numpy as np\n",
    "from sklearn.metrics import confusion_matrix\n",
    "import matplotlib.pyplot as plt\n",
    "from xgboost import plot_importance\n",
    "import findspark\n",
    "findspark.init()\n",
    "import pyspark\n",
    "from pyspark.sql import SparkSession"
   ]
  },
  {
   "cell_type": "markdown",
   "metadata": {},
   "source": [
    "#### Prepare dataset"
   ]
  },
  {
   "cell_type": "code",
   "execution_count": 3,
   "metadata": {},
   "outputs": [
    {
     "name": "stdout",
     "output_type": "stream",
     "text": [
      "(77271, 18)\n"
     ]
    }
   ],
   "source": [
    "# data cleaning has been done before\n",
    "# load training data\n",
    "data = pd.read_csv('data/trainset.csv')\n",
    "\n",
    "print(data.shape)"
   ]
  },
  {
   "cell_type": "code",
   "execution_count": 11,
   "metadata": {},
   "outputs": [
    {
     "name": "stdout",
     "output_type": "stream",
     "text": [
      "   Unnamed: 0  default_profile  favourites_count  followers_count  \\\n",
      "0           0            False               628           188419   \n",
      "1           1            False             11608           180759   \n",
      "2           2            False                 0            19311   \n",
      "3           3            False             12798              398   \n",
      "4           4            False              2135             7125   \n",
      "\n",
      "   friends_count  geo_enabled         id  listed_count  \\\n",
      "0            857        False   31098240           432   \n",
      "1            905         True    6892002          1119   \n",
      "2           1472        False   20083388           675   \n",
      "3            185        False  385587235             5   \n",
      "4           4431         True   51240839           160   \n",
      "\n",
      "   profile_use_background_image  protected  statuses_count  label_human  \n",
      "0                         False        0.0          117922            1  \n",
      "1                          True        0.0          176250            1  \n",
      "2                          True        0.0           34918            1  \n",
      "3                         False        0.0             669            1  \n",
      "4                          True        0.0           16341            1  \n"
     ]
    }
   ],
   "source": [
    "print(data.head())"
   ]
  },
  {
   "cell_type": "markdown",
   "metadata": {},
   "source": [
    "#### Feature Engineering"
   ]
  },
  {
   "cell_type": "code",
   "execution_count": 13,
   "metadata": {},
   "outputs": [],
   "source": [
    "def ratio(a,b):\n",
    "    ratio = a/(b+0.0000001)\n",
    "    return ratio"
   ]
  },
  {
   "cell_type": "code",
   "execution_count": 14,
   "metadata": {},
   "outputs": [],
   "source": [
    "# features calculation\n",
    "data['follower_friends_ratio'] =data.apply(lambda x: ratio(x.followers_count, x.friends_count), axis = 1)\n",
    "\n",
    "data['follower_favorite_ratio'] = data.apply(lambda x: ratio(x.followers_count, x.favourites_count), axis = 1)\n",
    "\n",
    "data['friends_favorite_ratio'] = data.apply(lambda x: ratio(x.friends_count, x.favourites_count), axis = 1)\n",
    "\n",
    "data['friends_publication_ratio'] = data.apply(lambda x: ratio(x.friends_count, x.statuses_count), axis = 1)\n",
    "\n",
    "data['followers_publication_ratio'] = data.apply(lambda x: ratio(x.followers_count, x.statuses_count), axis = 1)\n",
    "\n",
    "data['list_friends_ratio'] = data.apply(lambda x: ratio(x.listed_count, x.friends_count), axis = 1)"
   ]
  },
  {
   "cell_type": "code",
   "execution_count": 39,
   "metadata": {},
   "outputs": [],
   "source": [
    "data = data.drop(['id','Unnamed: 0'],axis = 1)"
   ]
  },
  {
   "cell_type": "code",
   "execution_count": 15,
   "metadata": {},
   "outputs": [
    {
     "data": {
      "text/html": [
       "<div>\n",
       "<style scoped>\n",
       "    .dataframe tbody tr th:only-of-type {\n",
       "        vertical-align: middle;\n",
       "    }\n",
       "\n",
       "    .dataframe tbody tr th {\n",
       "        vertical-align: top;\n",
       "    }\n",
       "\n",
       "    .dataframe thead th {\n",
       "        text-align: right;\n",
       "    }\n",
       "</style>\n",
       "<table border=\"1\" class=\"dataframe\">\n",
       "  <thead>\n",
       "    <tr style=\"text-align: right;\">\n",
       "      <th></th>\n",
       "      <th>Unnamed: 0</th>\n",
       "      <th>default_profile</th>\n",
       "      <th>favourites_count</th>\n",
       "      <th>followers_count</th>\n",
       "      <th>friends_count</th>\n",
       "      <th>geo_enabled</th>\n",
       "      <th>id</th>\n",
       "      <th>listed_count</th>\n",
       "      <th>profile_use_background_image</th>\n",
       "      <th>protected</th>\n",
       "      <th>statuses_count</th>\n",
       "      <th>follower_friends_ratio</th>\n",
       "      <th>follower_favorite_ratio</th>\n",
       "      <th>friends_favorite_ratio</th>\n",
       "      <th>friends_publication_ratio</th>\n",
       "      <th>followers_publication_ratio</th>\n",
       "      <th>list_friends_ratio</th>\n",
       "      <th>label_human</th>\n",
       "    </tr>\n",
       "  </thead>\n",
       "  <tbody>\n",
       "    <tr>\n",
       "      <th>0</th>\n",
       "      <td>0</td>\n",
       "      <td>False</td>\n",
       "      <td>628</td>\n",
       "      <td>188419</td>\n",
       "      <td>857</td>\n",
       "      <td>False</td>\n",
       "      <td>31098240</td>\n",
       "      <td>432</td>\n",
       "      <td>False</td>\n",
       "      <td>0.0</td>\n",
       "      <td>117922</td>\n",
       "      <td>219.858810</td>\n",
       "      <td>3.000303e+02</td>\n",
       "      <td>1.364650e+00</td>\n",
       "      <td>0.007268</td>\n",
       "      <td>1.597827</td>\n",
       "      <td>0.504084</td>\n",
       "      <td>1</td>\n",
       "    </tr>\n",
       "    <tr>\n",
       "      <th>1</th>\n",
       "      <td>1</td>\n",
       "      <td>False</td>\n",
       "      <td>11608</td>\n",
       "      <td>180759</td>\n",
       "      <td>905</td>\n",
       "      <td>True</td>\n",
       "      <td>6892002</td>\n",
       "      <td>1119</td>\n",
       "      <td>True</td>\n",
       "      <td>0.0</td>\n",
       "      <td>176250</td>\n",
       "      <td>199.733702</td>\n",
       "      <td>1.557193e+01</td>\n",
       "      <td>7.796347e-02</td>\n",
       "      <td>0.005135</td>\n",
       "      <td>1.025583</td>\n",
       "      <td>1.236464</td>\n",
       "      <td>1</td>\n",
       "    </tr>\n",
       "    <tr>\n",
       "      <th>2</th>\n",
       "      <td>2</td>\n",
       "      <td>False</td>\n",
       "      <td>0</td>\n",
       "      <td>19311</td>\n",
       "      <td>1472</td>\n",
       "      <td>False</td>\n",
       "      <td>20083388</td>\n",
       "      <td>675</td>\n",
       "      <td>True</td>\n",
       "      <td>0.0</td>\n",
       "      <td>34918</td>\n",
       "      <td>13.118886</td>\n",
       "      <td>1.931100e+11</td>\n",
       "      <td>1.472000e+10</td>\n",
       "      <td>0.042156</td>\n",
       "      <td>0.553039</td>\n",
       "      <td>0.458560</td>\n",
       "      <td>1</td>\n",
       "    </tr>\n",
       "    <tr>\n",
       "      <th>3</th>\n",
       "      <td>3</td>\n",
       "      <td>False</td>\n",
       "      <td>12798</td>\n",
       "      <td>398</td>\n",
       "      <td>185</td>\n",
       "      <td>False</td>\n",
       "      <td>385587235</td>\n",
       "      <td>5</td>\n",
       "      <td>False</td>\n",
       "      <td>0.0</td>\n",
       "      <td>669</td>\n",
       "      <td>2.151351</td>\n",
       "      <td>3.109861e-02</td>\n",
       "      <td>1.445538e-02</td>\n",
       "      <td>0.276532</td>\n",
       "      <td>0.594918</td>\n",
       "      <td>0.027027</td>\n",
       "      <td>1</td>\n",
       "    </tr>\n",
       "    <tr>\n",
       "      <th>4</th>\n",
       "      <td>4</td>\n",
       "      <td>False</td>\n",
       "      <td>2135</td>\n",
       "      <td>7125</td>\n",
       "      <td>4431</td>\n",
       "      <td>True</td>\n",
       "      <td>51240839</td>\n",
       "      <td>160</td>\n",
       "      <td>True</td>\n",
       "      <td>0.0</td>\n",
       "      <td>16341</td>\n",
       "      <td>1.607989</td>\n",
       "      <td>3.337237e+00</td>\n",
       "      <td>2.075410e+00</td>\n",
       "      <td>0.271158</td>\n",
       "      <td>0.436020</td>\n",
       "      <td>0.036109</td>\n",
       "      <td>1</td>\n",
       "    </tr>\n",
       "  </tbody>\n",
       "</table>\n",
       "</div>"
      ],
      "text/plain": [
       "   Unnamed: 0  default_profile  favourites_count  followers_count  \\\n",
       "0           0            False               628           188419   \n",
       "1           1            False             11608           180759   \n",
       "2           2            False                 0            19311   \n",
       "3           3            False             12798              398   \n",
       "4           4            False              2135             7125   \n",
       "\n",
       "   friends_count  geo_enabled         id  listed_count  \\\n",
       "0            857        False   31098240           432   \n",
       "1            905         True    6892002          1119   \n",
       "2           1472        False   20083388           675   \n",
       "3            185        False  385587235             5   \n",
       "4           4431         True   51240839           160   \n",
       "\n",
       "   profile_use_background_image  protected  statuses_count  \\\n",
       "0                         False        0.0          117922   \n",
       "1                          True        0.0          176250   \n",
       "2                          True        0.0           34918   \n",
       "3                         False        0.0             669   \n",
       "4                          True        0.0           16341   \n",
       "\n",
       "   follower_friends_ratio  follower_favorite_ratio  friends_favorite_ratio  \\\n",
       "0              219.858810             3.000303e+02            1.364650e+00   \n",
       "1              199.733702             1.557193e+01            7.796347e-02   \n",
       "2               13.118886             1.931100e+11            1.472000e+10   \n",
       "3                2.151351             3.109861e-02            1.445538e-02   \n",
       "4                1.607989             3.337237e+00            2.075410e+00   \n",
       "\n",
       "   friends_publication_ratio  followers_publication_ratio  list_friends_ratio  \\\n",
       "0                   0.007268                     1.597827            0.504084   \n",
       "1                   0.005135                     1.025583            1.236464   \n",
       "2                   0.042156                     0.553039            0.458560   \n",
       "3                   0.276532                     0.594918            0.027027   \n",
       "4                   0.271158                     0.436020            0.036109   \n",
       "\n",
       "   label_human  \n",
       "0            1  \n",
       "1            1  \n",
       "2            1  \n",
       "3            1  \n",
       "4            1  "
      ]
     },
     "execution_count": 15,
     "metadata": {},
     "output_type": "execute_result"
    }
   ],
   "source": [
    "data.head()"
   ]
  },
  {
   "cell_type": "markdown",
   "metadata": {},
   "source": [
    "#### Build model"
   ]
  },
  {
   "cell_type": "code",
   "execution_count": 42,
   "metadata": {},
   "outputs": [],
   "source": [
    "# get X,y\n",
    "y = data['label_human']\n",
    "X = data.drop(['label_human'], axis=1)"
   ]
  },
  {
   "cell_type": "code",
   "execution_count": 43,
   "metadata": {},
   "outputs": [
    {
     "data": {
      "text/plain": [
       "0    52972\n",
       "1    24299\n",
       "Name: label_human, dtype: int64"
      ]
     },
     "execution_count": 43,
     "metadata": {},
     "output_type": "execute_result"
    }
   ],
   "source": [
    "data['label_human'].value_counts()"
   ]
  },
  {
   "cell_type": "code",
   "execution_count": 44,
   "metadata": {},
   "outputs": [],
   "source": [
    "# split training set and testing set\n",
    "X_train, X_test, y_train, y_test = train_test_split(X, y, test_size=0.2)"
   ]
  },
  {
   "cell_type": "code",
   "execution_count": 45,
   "metadata": {},
   "outputs": [
    {
     "data": {
      "text/plain": [
       "XGBClassifier(base_score=0.5, booster=None, colsample_bylevel=1,\n",
       "              colsample_bynode=1, colsample_bytree=1, gamma=0, gpu_id=-1,\n",
       "              importance_type='gain', interaction_constraints=None,\n",
       "              learning_rate=0.1, max_delta_step=0, max_depth=6,\n",
       "              min_child_weight=1, missing=nan, monotone_constraints=None,\n",
       "              n_estimators=100, n_jobs=0, num_parallel_tree=1,\n",
       "              objective='binary:logistic', random_state=0, reg_alpha=0,\n",
       "              reg_lambda=1, scale_pos_weight=1, subsample=1, tree_method=None,\n",
       "              validate_parameters=False, verbosity=None)"
      ]
     },
     "execution_count": 45,
     "metadata": {},
     "output_type": "execute_result"
    }
   ],
   "source": [
    "# best tuned model\n",
    "clf_XGB = XGBClassifier(n_estimators = 100, max_depth=6,learning_rate=0.1, \n",
    "                        objective= 'binary:logistic')\n",
    "clf_XGB.fit(X_train,y_train, early_stopping_rounds=20, \n",
    "            eval_set=[(X_test, y_test)], verbose=False)"
   ]
  },
  {
   "cell_type": "markdown",
   "metadata": {},
   "source": [
    "#### Evaluation"
   ]
  },
  {
   "cell_type": "code",
   "execution_count": 26,
   "metadata": {},
   "outputs": [
    {
     "name": "stdout",
     "output_type": "stream",
     "text": [
      "XGB Accuracy: 0.9613717243610482\n"
     ]
    }
   ],
   "source": [
    "# get accuracy score\n",
    "y_pred_xgb = clf_XGB.predict(X_test)\n",
    "print(\"XGB Accuracy:\", accuracy_score(y_test, y_pred_xgb))"
   ]
  },
  {
   "cell_type": "code",
   "execution_count": 28,
   "metadata": {},
   "outputs": [
    {
     "name": "stdout",
     "output_type": "stream",
     "text": [
      "              precision    recall  f1-score   support\n",
      "\n",
      "           0       0.98      0.97      0.97     10700\n",
      "           1       0.93      0.95      0.94      4755\n",
      "\n",
      "    accuracy                           0.96     15455\n",
      "   macro avg       0.95      0.96      0.95     15455\n",
      "weighted avg       0.96      0.96      0.96     15455\n",
      "\n"
     ]
    }
   ],
   "source": [
    "#get classification report\n",
    "print(classification_report(y_test, y_pred_xgb))"
   ]
  },
  {
   "cell_type": "code",
   "execution_count": 30,
   "metadata": {},
   "outputs": [
    {
     "name": "stdout",
     "output_type": "stream",
     "text": [
      "Normalized confusion matrix\n",
      "[[0.96700935 0.03299065]\n",
      " [0.05131441 0.94868559]]\n"
     ]
    },
    {
     "data": {
      "text/plain": [
       "<matplotlib.axes._subplots.AxesSubplot at 0x22b0f013a90>"
      ]
     },
     "execution_count": 30,
     "metadata": {},
     "output_type": "execute_result"
    },
    {
     "data": {
      "image/png": "[encoded data removed]",
      "text/plain": [
       "<Figure size 432x288 with 2 Axes>"
      ]
     },
     "metadata": {
      "needs_background": "light"
     },
     "output_type": "display_data"
    }
   ],
   "source": [
    "# plot normalized confusion matrix\n",
    "def plot_confusion_matrix(y_test, predict_test, classes,\n",
    "                          normalize=False,\n",
    "                          title=None,\n",
    "                          cmap=plt.cm.Blues):\n",
    "    \"\"\"\n",
    "    This function prints and plots the confusion matrix.\n",
    "    Normalization can be applied by setting `normalize=True`.\n",
    "    \"\"\"\n",
    "    if not title:\n",
    "        if normalize:\n",
    "            title = 'Normalized confusion matrix'\n",
    "        else:\n",
    "            title = 'Confusion matrix, without normalization'\n",
    "\n",
    "    # Compute confusion matrix\n",
    "    cm = confusion_matrix(y_test, predict_test)\n",
    "\n",
    "    if normalize:\n",
    "        cm = cm.astype('float') / cm.sum(axis=1)[:, np.newaxis]\n",
    "        print(\"Normalized confusion matrix\")\n",
    "    else:\n",
    "        print('Confusion matrix, without normalization')\n",
    "\n",
    "    print(cm)\n",
    "\n",
    "    fig, ax = plt.subplots()\n",
    "    im = ax.imshow(cm, interpolation='nearest', cmap=cmap)\n",
    "    ax.figure.colorbar(im, ax=ax)\n",
    "    # We want to show all ticks...\n",
    "    ax.set(xticks=np.arange(cm.shape[1]),\n",
    "           yticks=np.arange(cm.shape[0]),\n",
    "           # ... and label them with the respective list entries\n",
    "           xticklabels=classes, yticklabels=classes,\n",
    "           title=title,\n",
    "           ylabel='True label',\n",
    "           xlabel='Predicted label')\n",
    "\n",
    "    # Rotate the tick labels and set their alignment.\n",
    "    plt.setp(ax.get_xticklabels(), ha=\"right\",\n",
    "             rotation_mode=\"anchor\")\n",
    "\n",
    "    # Loop over data dimensions and create text annotations.\n",
    "    fmt = '.2f' if normalize else 'd'\n",
    "    thresh = cm.max() / 2.\n",
    "    for i in range(cm.shape[0]):\n",
    "        for j in range(cm.shape[1]):\n",
    "            ax.text(j, i, format(cm[i, j], fmt),\n",
    "                    ha=\"center\", va=\"center\",\n",
    "                    color=\"red\" if cm[i, j] > thresh else \"green\")\n",
    "    fig.tight_layout()\n",
    "    return ax\n",
    "\n",
    "plot_confusion_matrix(y_test, y_pred_xgb, classes=[\"bot\",\"human\"], normalize=True)"
   ]
  },
  {
   "cell_type": "code",
   "execution_count": 46,
   "metadata": {},
   "outputs": [
    {
     "data": {
      "image/png": "[encoded data removed]",
      "text/plain": [
       "<Figure size 432x288 with 1 Axes>"
      ]
     },
     "metadata": {
      "needs_background": "light"
     },
     "output_type": "display_data"
    }
   ],
   "source": [
    "# plot feature importance\n",
    "plot_importance(clf_XGB)\n",
    "plt.show()"
   ]
  },
  {
   "cell_type": "markdown",
   "metadata": {},
   "source": [
    "#### Load data using pyspark"
   ]
  },
  {
   "cell_type": "code",
   "execution_count": 5,
   "metadata": {},
   "outputs": [],
   "source": [
    "spark = SparkSession \\\n",
    "    .builder \\\n",
    "    .appName(\"CS5344FinalProject\") \\\n",
    "    .config(\"spark.debug.maxToStringFields\", \"100\") \\\n",
    "    .config(\"spark.network.timeout\", \"600s\") \\\n",
    "    .config('spark.executor.cores', '3') \\\n",
    "    .config('spark.executor.memory', '2g') \\\n",
    "    .config('spark.driver.memory', '5g') \\\n",
    "    .getOrCreate()"
   ]
  },
  {
   "cell_type": "code",
   "execution_count": 6,
   "metadata": {},
   "outputs": [],
   "source": [
    "#read data\n",
    "path_json = \"data/tweets_json.json\"\n",
    "\n",
    "raw_data = spark.read.format(\"json\")\\\n",
    "    .option(\"multiline\", \"true\")\\\n",
    "    .option(\"header\", \"true\")\\\n",
    "    .option(\"escape\", '\"')\\\n",
    "    .load(path_json)"
   ]
  },
  {
   "cell_type": "code",
   "execution_count": 7,
   "metadata": {},
   "outputs": [
    {
     "name": "stdout",
     "output_type": "stream",
     "text": [
      "108622\n",
      "+---------------+----------------+---------------+-------------+-----------+------------------+------------+----------------------------+---------+--------------+\n",
      "|default_profile|favourites_count|followers_count|friends_count|geo_enabled|                id|listed_count|profile_use_background_image|protected|statuses_count|\n",
      "+---------------+----------------+---------------+-------------+-----------+------------------+------------+----------------------------+---------+--------------+\n",
      "|          false|            3141|            984|          322|      false|         120881626|          29|                        true|    false|          4750|\n",
      "|          false|            3973|            852|         1221|      false|785810084886568960|          40|                       false|    false|          3414|\n",
      "|          false|           24790|           1546|         1159|       true|         115368558|         198|                        true|    false|         25846|\n",
      "|           true|           20357|           2407|         2954|       true|         330586611|          35|                        true|    false|         56084|\n",
      "|          false|           12983|            176|          576|       true|          25555921|           3|                        true|    false|          4290|\n",
      "+---------------+----------------+---------------+-------------+-----------+------------------+------------+----------------------------+---------+--------------+\n",
      "only showing top 5 rows\n",
      "\n"
     ]
    }
   ],
   "source": [
    "# get features\n",
    "extracted_features = raw_data.selectExpr('user.default_profile as default_profile', \n",
    "                                         'user.favourites_count as favourites_count',\n",
    "                                         'user.followers_count as followers_count',\n",
    "                                         'user.friends_count as friends_count',\n",
    "                                         'user.geo_enabled as geo_enabled',\n",
    "                                         'user.id as id',\n",
    "                                         'user.listed_count as listed_count',\n",
    "                                         'user.profile_use_background_image as profile_use_background_image',\n",
    "                                         'user.protected as protected',\n",
    "                                         'user.statuses_count as statuses_count').dropDuplicates(subset=['id'])\n",
    "data_pre2 = extracted_features.toPandas()\n",
    "print(extracted_features.count())\n",
    "extracted_features.show(5)"
   ]
  },
  {
   "cell_type": "code",
   "execution_count": 11,
   "metadata": {},
   "outputs": [],
   "source": [
    "#end session\n",
    "spark.stop()"
   ]
  },
  {
   "cell_type": "markdown",
   "metadata": {},
   "source": [
    "#### Prediction on test set"
   ]
  },
  {
   "cell_type": "code",
   "execution_count": 54,
   "metadata": {},
   "outputs": [],
   "source": [
    "# deliver features as training \n",
    "data_pre2['follower_friends_ratio'] = data_pre2.apply(lambda x: ratio(x.followers_count, x.friends_count), axis = 1)\n",
    "\n",
    "data_pre2['follower_favorite_ratio'] = data_pre2.apply(lambda x: ratio(x.followers_count, x.favourites_count), axis = 1)\n",
    "\n",
    "data_pre2['friends_favorite_ratio'] = data_pre2.apply(lambda x: ratio(x.friends_count, x.favourites_count), axis = 1)\n",
    "\n",
    "data_pre2['friends_publication_ratio'] = data_pre2.apply(lambda x: ratio(x.friends_count, x.statuses_count), axis = 1)\n",
    "\n",
    "data_pre2['followers_publication_ratio'] = data_pre2.apply(lambda x: ratio(x.followers_count, x.statuses_count), axis = 1)\n",
    "\n",
    "data_pre2['list_friends_ratio'] = data_pre2.apply(lambda x: ratio(x.listed_count, x.friends_count), axis = 1)\n"
   ]
  },
  {
   "cell_type": "code",
   "execution_count": 55,
   "metadata": {},
   "outputs": [
    {
     "name": "stdout",
     "output_type": "stream",
     "text": [
      "(108622, 16)\n"
     ]
    },
    {
     "data": {
      "text/html": [
       "<div>\n",
       "<style scoped>\n",
       "    .dataframe tbody tr th:only-of-type {\n",
       "        vertical-align: middle;\n",
       "    }\n",
       "\n",
       "    .dataframe tbody tr th {\n",
       "        vertical-align: top;\n",
       "    }\n",
       "\n",
       "    .dataframe thead th {\n",
       "        text-align: right;\n",
       "    }\n",
       "</style>\n",
       "<table border=\"1\" class=\"dataframe\">\n",
       "  <thead>\n",
       "    <tr style=\"text-align: right;\">\n",
       "      <th></th>\n",
       "      <th>default_profile</th>\n",
       "      <th>favourites_count</th>\n",
       "      <th>followers_count</th>\n",
       "      <th>friends_count</th>\n",
       "      <th>geo_enabled</th>\n",
       "      <th>id</th>\n",
       "      <th>listed_count</th>\n",
       "      <th>profile_use_background_image</th>\n",
       "      <th>protected</th>\n",
       "      <th>statuses_count</th>\n",
       "      <th>follower_friends_ratio</th>\n",
       "      <th>follower_favorite_ratio</th>\n",
       "      <th>friends_favorite_ratio</th>\n",
       "      <th>friends_publication_ratio</th>\n",
       "      <th>followers_publication_ratio</th>\n",
       "      <th>list_friends_ratio</th>\n",
       "    </tr>\n",
       "  </thead>\n",
       "  <tbody>\n",
       "    <tr>\n",
       "      <th>0</th>\n",
       "      <td>False</td>\n",
       "      <td>14347</td>\n",
       "      <td>557</td>\n",
       "      <td>1417</td>\n",
       "      <td>True</td>\n",
       "      <td>46343365</td>\n",
       "      <td>24</td>\n",
       "      <td>True</td>\n",
       "      <td>False</td>\n",
       "      <td>39965</td>\n",
       "      <td>0.393084</td>\n",
       "      <td>0.038823</td>\n",
       "      <td>0.098766</td>\n",
       "      <td>0.035456</td>\n",
       "      <td>0.013937</td>\n",
       "      <td>0.016937</td>\n",
       "    </tr>\n",
       "    <tr>\n",
       "      <th>2</th>\n",
       "      <td>True</td>\n",
       "      <td>53631</td>\n",
       "      <td>770</td>\n",
       "      <td>173</td>\n",
       "      <td>False</td>\n",
       "      <td>2510990164</td>\n",
       "      <td>13</td>\n",
       "      <td>True</td>\n",
       "      <td>False</td>\n",
       "      <td>85187</td>\n",
       "      <td>4.450867</td>\n",
       "      <td>0.014357</td>\n",
       "      <td>0.003226</td>\n",
       "      <td>0.002031</td>\n",
       "      <td>0.009039</td>\n",
       "      <td>0.075145</td>\n",
       "    </tr>\n",
       "    <tr>\n",
       "      <th>3</th>\n",
       "      <td>True</td>\n",
       "      <td>1484</td>\n",
       "      <td>809</td>\n",
       "      <td>1741</td>\n",
       "      <td>False</td>\n",
       "      <td>997256304296189952</td>\n",
       "      <td>11</td>\n",
       "      <td>True</td>\n",
       "      <td>False</td>\n",
       "      <td>12782</td>\n",
       "      <td>0.464675</td>\n",
       "      <td>0.545148</td>\n",
       "      <td>1.173181</td>\n",
       "      <td>0.136207</td>\n",
       "      <td>0.063292</td>\n",
       "      <td>0.006318</td>\n",
       "    </tr>\n",
       "    <tr>\n",
       "      <th>4</th>\n",
       "      <td>False</td>\n",
       "      <td>31297</td>\n",
       "      <td>2236</td>\n",
       "      <td>993</td>\n",
       "      <td>True</td>\n",
       "      <td>128520495</td>\n",
       "      <td>206</td>\n",
       "      <td>True</td>\n",
       "      <td>False</td>\n",
       "      <td>31283</td>\n",
       "      <td>2.251762</td>\n",
       "      <td>0.071445</td>\n",
       "      <td>0.031728</td>\n",
       "      <td>0.031742</td>\n",
       "      <td>0.071477</td>\n",
       "      <td>0.207452</td>\n",
       "    </tr>\n",
       "    <tr>\n",
       "      <th>6</th>\n",
       "      <td>False</td>\n",
       "      <td>285</td>\n",
       "      <td>406</td>\n",
       "      <td>859</td>\n",
       "      <td>False</td>\n",
       "      <td>930112543993057280</td>\n",
       "      <td>2</td>\n",
       "      <td>False</td>\n",
       "      <td>False</td>\n",
       "      <td>765</td>\n",
       "      <td>0.472643</td>\n",
       "      <td>1.424561</td>\n",
       "      <td>3.014035</td>\n",
       "      <td>1.122876</td>\n",
       "      <td>0.530719</td>\n",
       "      <td>0.002328</td>\n",
       "    </tr>\n",
       "  </tbody>\n",
       "</table>\n",
       "</div>"
      ],
      "text/plain": [
       "   default_profile  favourites_count  followers_count  friends_count  \\\n",
       "0            False             14347              557           1417   \n",
       "2             True             53631              770            173   \n",
       "3             True              1484              809           1741   \n",
       "4            False             31297             2236            993   \n",
       "6            False               285              406            859   \n",
       "\n",
       "   geo_enabled                  id  listed_count  \\\n",
       "0         True            46343365            24   \n",
       "2        False          2510990164            13   \n",
       "3        False  997256304296189952            11   \n",
       "4         True           128520495           206   \n",
       "6        False  930112543993057280             2   \n",
       "\n",
       "   profile_use_background_image  protected  statuses_count  \\\n",
       "0                          True      False           39965   \n",
       "2                          True      False           85187   \n",
       "3                          True      False           12782   \n",
       "4                          True      False           31283   \n",
       "6                         False      False             765   \n",
       "\n",
       "   follower_friends_ratio  follower_favorite_ratio  friends_favorite_ratio  \\\n",
       "0                0.393084                 0.038823                0.098766   \n",
       "2                4.450867                 0.014357                0.003226   \n",
       "3                0.464675                 0.545148                1.173181   \n",
       "4                2.251762                 0.071445                0.031728   \n",
       "6                0.472643                 1.424561                3.014035   \n",
       "\n",
       "   friends_publication_ratio  followers_publication_ratio  list_friends_ratio  \n",
       "0                   0.035456                     0.013937            0.016937  \n",
       "2                   0.002031                     0.009039            0.075145  \n",
       "3                   0.136207                     0.063292            0.006318  \n",
       "4                   0.031742                     0.071477            0.207452  \n",
       "6                   1.122876                     0.530719            0.002328  "
      ]
     },
     "execution_count": 55,
     "metadata": {},
     "output_type": "execute_result"
    }
   ],
   "source": [
    "print(data_pre2.shape)\n",
    "data_pre2.head()"
   ]
  },
  {
   "cell_type": "code",
   "execution_count": 56,
   "metadata": {},
   "outputs": [],
   "source": [
    "# define input data\n",
    "df2 = data_pre2[['default_profile', 'favourites_count', 'followers_count',\n",
    "       'friends_count', 'geo_enabled', 'listed_count',\n",
    "       'profile_use_background_image', 'protected', 'statuses_count',\n",
    "       'follower_friends_ratio', 'follower_favorite_ratio',\n",
    "       'friends_favorite_ratio', 'friends_publication_ratio',\n",
    "       'followers_publication_ratio', 'list_friends_ratio']]"
   ]
  },
  {
   "cell_type": "code",
   "execution_count": 57,
   "metadata": {},
   "outputs": [],
   "source": [
    "label_xgb = clf_XGB.predict(df2)\n",
    "labels = pd.DataFrame(label_xgb)"
   ]
  },
  {
   "cell_type": "code",
   "execution_count": 58,
   "metadata": {},
   "outputs": [
    {
     "data": {
      "text/plain": [
       "1    81021\n",
       "0    27601\n",
       "Name: 0, dtype: int64"
      ]
     },
     "execution_count": 58,
     "metadata": {},
     "output_type": "execute_result"
    }
   ],
   "source": [
    "labels.loc[:,0].value_counts()"
   ]
  },
  {
   "cell_type": "code",
   "execution_count": 74,
   "metadata": {},
   "outputs": [],
   "source": [
    "# merge and output\n",
    "id = data_pre2['id']\n",
    "id = pd.DataFrame(id)\n",
    "labels_final = id.join(labels)\n",
    "labels_final = labels_final.drop_duplicates()\n",
    "labels_final = labels_final.rename(columns={0: 'label'})\n",
    "labels_final.to_csv('data/label.csv', index=False)"
   ]
  }
 ],
 "metadata": {
  "kernelspec": {
   "display_name": "Python 3",
   "language": "python",
   "name": "python3"
  },
  "language_info": {
   "codemirror_mode": {
    "name": "ipython",
    "version": 3
   },
   "file_extension": ".py",
   "mimetype": "text/x-python",
   "name": "python",
   "nbconvert_exporter": "python",
   "pygments_lexer": "ipython3",
   "version": "3.7.0"
  },
  "varInspector": {
   "cols": {
    "lenName": 16,
    "lenType": 16,
    "lenVar": 40
   },
   "kernels_config": {
    "python": {
     "delete_cmd_postfix": "",
     "delete_cmd_prefix": "del ",
     "library": "var_list.py",
     "varRefreshCmd": "print(var_dic_list())"
    },
    "r": {
     "delete_cmd_postfix": ") ",
     "delete_cmd_prefix": "rm(",
     "library": "var_list.r",
     "varRefreshCmd": "cat(var_dic_list()) "
    }
   },
   "types_to_exclude": [
    "module",
    "function",
    "builtin_function_or_method",
    "instance",
    "_Feature"
   ],
   "window_display": false
  }
 },
 "nbformat": 4,
 "nbformat_minor": 2
}
