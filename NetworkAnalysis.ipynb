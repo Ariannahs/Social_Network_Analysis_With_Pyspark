{
 "cells": [
  {
   "cell_type": "markdown",
   "metadata": {},
   "source": [
    "## Network Analysis"
   ]
  },
  {
   "cell_type": "markdown",
   "metadata": {},
   "source": [
    "#### Content  \n",
    "Part 0: Load data and extract features  \n",
    "Part 1: Data preprocessing for creating network dataset    "
   ]
  },
  {
   "cell_type": "code",
   "execution_count": 1,
   "metadata": {},
   "outputs": [],
   "source": [
    "import pandas as pd\n",
    "import ast\n",
    "import numpy as np\n",
    "import math"
   ]
  },
  {
   "cell_type": "markdown",
   "metadata": {},
   "source": [
    "#### Load data"
   ]
  },
  {
   "cell_type": "code",
   "execution_count": 12,
   "metadata": {},
   "outputs": [],
   "source": [
    "path_json = \"data/tweets_json.json\"\n",
    "df = pd.read_json(path_json)[['created_at','id_str','entities','in_reply_to_user_id_str','user','retweeted_status','quoted_status']]\n",
    "df.to_csv('data/kaggle.csv',index=False)"
   ]
  },
  {
   "cell_type": "code",
   "execution_count": 15,
   "metadata": {},
   "outputs": [],
   "source": [
    "df = pd.read_csv('data/kaggle.csv')"
   ]
  },
  {
   "cell_type": "code",
   "execution_count": 16,
   "metadata": {},
   "outputs": [
    {
     "data": {
      "text/html": [
       "<div>\n",
       "<style scoped>\n",
       "    .dataframe tbody tr th:only-of-type {\n",
       "        vertical-align: middle;\n",
       "    }\n",
       "\n",
       "    .dataframe tbody tr th {\n",
       "        vertical-align: top;\n",
       "    }\n",
       "\n",
       "    .dataframe thead th {\n",
       "        text-align: right;\n",
       "    }\n",
       "</style>\n",
       "<table border=\"1\" class=\"dataframe\">\n",
       "  <thead>\n",
       "    <tr style=\"text-align: right;\">\n",
       "      <th></th>\n",
       "      <th>created_at</th>\n",
       "      <th>id_str</th>\n",
       "      <th>entities</th>\n",
       "      <th>in_reply_to_user_id_str</th>\n",
       "      <th>user</th>\n",
       "      <th>retweeted_status</th>\n",
       "      <th>quoted_status</th>\n",
       "    </tr>\n",
       "  </thead>\n",
       "  <tbody>\n",
       "    <tr>\n",
       "      <th>0</th>\n",
       "      <td>2019-11-29 12:09:16</td>\n",
       "      <td>1200386239452585984</td>\n",
       "      <td>{'hashtags': [], 'symbols': [], 'user_mentions...</td>\n",
       "      <td>14802766.0</td>\n",
       "      <td>{'id': 46343365, 'id_str': '46343365', 'name':...</td>\n",
       "      <td>NaN</td>\n",
       "      <td>NaN</td>\n",
       "    </tr>\n",
       "    <tr>\n",
       "      <th>1</th>\n",
       "      <td>2019-11-29 12:07:58</td>\n",
       "      <td>1200385913928527872</td>\n",
       "      <td>{'hashtags': [], 'symbols': [], 'user_mentions...</td>\n",
       "      <td>14802766.0</td>\n",
       "      <td>{'id': 46343365, 'id_str': '46343365', 'name':...</td>\n",
       "      <td>NaN</td>\n",
       "      <td>NaN</td>\n",
       "    </tr>\n",
       "    <tr>\n",
       "      <th>2</th>\n",
       "      <td>2019-12-07 16:17:06</td>\n",
       "      <td>1203347712403480576</td>\n",
       "      <td>{'hashtags': [], 'symbols': [], 'user_mentions...</td>\n",
       "      <td>454933267.0</td>\n",
       "      <td>{'id': 2510990164, 'id_str': '2510990164', 'na...</td>\n",
       "      <td>NaN</td>\n",
       "      <td>NaN</td>\n",
       "    </tr>\n",
       "    <tr>\n",
       "      <th>3</th>\n",
       "      <td>2019-12-07 10:10:36</td>\n",
       "      <td>1203255481164283904</td>\n",
       "      <td>{'hashtags': [], 'symbols': [], 'user_mentions...</td>\n",
       "      <td>NaN</td>\n",
       "      <td>{'id': 997256304296189952, 'id_str': '99725630...</td>\n",
       "      <td>{'created_at': 'Fri Dec 06 15:37:03 +0000 2019...</td>\n",
       "      <td>NaN</td>\n",
       "    </tr>\n",
       "    <tr>\n",
       "      <th>4</th>\n",
       "      <td>2019-12-07 09:24:20</td>\n",
       "      <td>1203243838317445120</td>\n",
       "      <td>{'hashtags': [], 'symbols': [], 'user_mentions...</td>\n",
       "      <td>454933267.0</td>\n",
       "      <td>{'id': 128520495, 'id_str': '128520495', 'name...</td>\n",
       "      <td>NaN</td>\n",
       "      <td>NaN</td>\n",
       "    </tr>\n",
       "  </tbody>\n",
       "</table>\n",
       "</div>"
      ],
      "text/plain": [
       "            created_at               id_str  \\\n",
       "0  2019-11-29 12:09:16  1200386239452585984   \n",
       "1  2019-11-29 12:07:58  1200385913928527872   \n",
       "2  2019-12-07 16:17:06  1203347712403480576   \n",
       "3  2019-12-07 10:10:36  1203255481164283904   \n",
       "4  2019-12-07 09:24:20  1203243838317445120   \n",
       "\n",
       "                                            entities  in_reply_to_user_id_str  \\\n",
       "0  {'hashtags': [], 'symbols': [], 'user_mentions...               14802766.0   \n",
       "1  {'hashtags': [], 'symbols': [], 'user_mentions...               14802766.0   \n",
       "2  {'hashtags': [], 'symbols': [], 'user_mentions...              454933267.0   \n",
       "3  {'hashtags': [], 'symbols': [], 'user_mentions...                      NaN   \n",
       "4  {'hashtags': [], 'symbols': [], 'user_mentions...              454933267.0   \n",
       "\n",
       "                                                user  \\\n",
       "0  {'id': 46343365, 'id_str': '46343365', 'name':...   \n",
       "1  {'id': 46343365, 'id_str': '46343365', 'name':...   \n",
       "2  {'id': 2510990164, 'id_str': '2510990164', 'na...   \n",
       "3  {'id': 997256304296189952, 'id_str': '99725630...   \n",
       "4  {'id': 128520495, 'id_str': '128520495', 'name...   \n",
       "\n",
       "                                    retweeted_status quoted_status  \n",
       "0                                                NaN           NaN  \n",
       "1                                                NaN           NaN  \n",
       "2                                                NaN           NaN  \n",
       "3  {'created_at': 'Fri Dec 06 15:37:03 +0000 2019...           NaN  \n",
       "4                                                NaN           NaN  "
      ]
     },
     "execution_count": 16,
     "metadata": {},
     "output_type": "execute_result"
    }
   ],
   "source": [
    "df.head()"
   ]
  },
  {
   "cell_type": "markdown",
   "metadata": {},
   "source": [
    "#### preprocessing"
   ]
  },
  {
   "cell_type": "code",
   "execution_count": 17,
   "metadata": {},
   "outputs": [],
   "source": [
    "def mention_name(row):\n",
    "    user_mentions = ast.literal_eval(row['entities']).get('user_mentions')\n",
    "    if user_mentions != []:\n",
    "        mention_name = []\n",
    "        for i in range(len(user_mentions)):\n",
    "            mention_name.append(user_mentions[i].get('screen_name'))\n",
    "    else:\n",
    "        mention_name = math.nan\n",
    "    return mention_name\n",
    "\n",
    "def mention_id(row):\n",
    "    user_mentions = ast.literal_eval(row['entities']).get('user_mentions')\n",
    "    if user_mentions != []:\n",
    "        mention_id = []\n",
    "        for i in range(len(user_mentions)):\n",
    "            mention_id.append(user_mentions[i].get('id_str'))\n",
    "    else:\n",
    "        mention_id = math.nan\n",
    "    return mention_id\n",
    "\n",
    "def user_id(row):\n",
    "    user_id = ast.literal_eval(row['user']).get('id_str')\n",
    "    return user_id\n",
    "\n",
    "def retweet_id(row):\n",
    "    if type(row['retweeted_status']) == str:\n",
    "        retweet_id = ast.literal_eval(row['retweeted_status']).get('user').get('id_str')\n",
    "    else:\n",
    "        retweet_id = math.nan\n",
    "    return retweet_id\n",
    "\n",
    "def quote_id(row):\n",
    "    if type(row['quoted_status']) == str:\n",
    "        quote_id = ast.literal_eval(row['quoted_status']).get('user').get('id_str')\n",
    "    else:\n",
    "        quote_id = math.nan\n",
    "    return quote_id\n",
    "\n",
    "def user_name(row):\n",
    "    user_name = ast.literal_eval(row['user']).get('name')\n",
    "    return user_name"
   ]
  },
  {
   "cell_type": "code",
   "execution_count": 21,
   "metadata": {},
   "outputs": [],
   "source": [
    "df['mention_name'] = df.apply(mention_name,axis=1)\n",
    "df['mention_id'] = df.apply(mention_id,axis=1)\n",
    "df['user_id'] = df.apply(user_id,axis=1)\n",
    "df['retweet_id'] = df.apply(retweet_id,axis=1)\n",
    "df['quote_id'] = df.apply(quote_id,axis=1)\n",
    "df['user_name'] = df.apply(user_name,axis=1)"
   ]
  },
  {
   "cell_type": "code",
   "execution_count": 22,
   "metadata": {},
   "outputs": [],
   "source": [
    "df = df.drop(['entities','user','retweeted_status','quoted_status'],axis=1)\n",
    "df = df.drop_duplicates('id_str')\n",
    "df = df.drop('id_str',axis=1)"
   ]
  },
  {
   "cell_type": "code",
   "execution_count": 25,
   "metadata": {},
   "outputs": [],
   "source": [
    "def to_dummy(row):\n",
    "    if math.isnan(row['in_reply_to_user_id_str']) == False:\n",
    "        return str(row['in_reply_to_user_id_str'])\n",
    "    elif type(row['retweet_id']) == str:\n",
    "        return str(row['retweet_id'])\n",
    "    elif type(row['quote_id']) == str:\n",
    "        return str(row['quote_id'])\n",
    "df['target'] = df.apply(to_dummy,axis=1)\n",
    "\n",
    "def to_cat(row):\n",
    "    if math.isnan(row['in_reply_to_user_id_str']) == False:\n",
    "        return 'reply'\n",
    "    elif type(row['retweet_id']) == str:\n",
    "        return 'retweet'\n",
    "    elif type(row['quote_id']) == str:\n",
    "        return 'quote'\n",
    "df['cat'] = df.apply(to_cat,axis=1)"
   ]
  },
  {
   "cell_type": "code",
   "execution_count": 26,
   "metadata": {},
   "outputs": [],
   "source": [
    "df = df.drop(columns=['in_reply_to_user_id_str','retweet_id','quote_id'])"
   ]
  },
  {
   "cell_type": "markdown",
   "metadata": {},
   "source": [
    "#### Merge Party dataset"
   ]
  },
  {
   "cell_type": "code",
   "execution_count": 27,
   "metadata": {},
   "outputs": [],
   "source": [
    "party = pd.read_csv('data/mp_party.csv')\n",
    "party = party.drop(columns='Account Name')\n",
    "dict_party = party.set_index('ScreenName').to_dict()['Party']"
   ]
  },
  {
   "cell_type": "code",
   "execution_count": 54,
   "metadata": {},
   "outputs": [],
   "source": [
    "def get_party(row):\n",
    "    if type(row.mention_name) == float:\n",
    "        return 'unknown'\n",
    "    list_mention_name = ast.literal_eval(str(row.mention_name))\n",
    "    for i in range(len(list_mention_name)):\n",
    "        if list_mention_name[i] in dict_party.keys():\n",
    "            return dict_party[list_mention_name[i]]\n",
    "    return 'unknown'\n",
    "df['party'] = df.apply(get_party,axis=1)"
   ]
  },
  {
   "cell_type": "code",
   "execution_count": 55,
   "metadata": {},
   "outputs": [],
   "source": [
    "df = df.drop(columns=['mention_name','mention_id'])"
   ]
  },
  {
   "cell_type": "code",
   "execution_count": 58,
   "metadata": {},
   "outputs": [],
   "source": [
    "def get_opinion(row):\n",
    "    if row.party == 'the brexit party' or row.party == 'conservative party':\n",
    "        return 'yes'\n",
    "    elif row.party == 'unknown':\n",
    "        return 'unknown'\n",
    "    else:\n",
    "        return 'no'\n",
    "df['brexit'] = df.apply(get_opinion,axis=1)"
   ]
  },
  {
   "cell_type": "code",
   "execution_count": 61,
   "metadata": {},
   "outputs": [
    {
     "data": {
      "text/html": [
       "<div>\n",
       "<style scoped>\n",
       "    .dataframe tbody tr th:only-of-type {\n",
       "        vertical-align: middle;\n",
       "    }\n",
       "\n",
       "    .dataframe tbody tr th {\n",
       "        vertical-align: top;\n",
       "    }\n",
       "\n",
       "    .dataframe thead th {\n",
       "        text-align: right;\n",
       "    }\n",
       "</style>\n",
       "<table border=\"1\" class=\"dataframe\">\n",
       "  <thead>\n",
       "    <tr style=\"text-align: right;\">\n",
       "      <th></th>\n",
       "      <th>created_at</th>\n",
       "      <th>user_id</th>\n",
       "      <th>user_name</th>\n",
       "      <th>target</th>\n",
       "      <th>cat</th>\n",
       "      <th>party</th>\n",
       "      <th>brexit</th>\n",
       "    </tr>\n",
       "  </thead>\n",
       "  <tbody>\n",
       "    <tr>\n",
       "      <th>0</th>\n",
       "      <td>2019-11-29 12:09:16</td>\n",
       "      <td>46343365</td>\n",
       "      <td>Chris Jackson</td>\n",
       "      <td>14802766.0</td>\n",
       "      <td>reply</td>\n",
       "      <td>unknown</td>\n",
       "      <td>unknown</td>\n",
       "    </tr>\n",
       "    <tr>\n",
       "      <th>1</th>\n",
       "      <td>2019-11-29 12:07:58</td>\n",
       "      <td>46343365</td>\n",
       "      <td>Chris Jackson</td>\n",
       "      <td>14802766.0</td>\n",
       "      <td>reply</td>\n",
       "      <td>unknown</td>\n",
       "      <td>unknown</td>\n",
       "    </tr>\n",
       "    <tr>\n",
       "      <th>2</th>\n",
       "      <td>2019-12-07 16:17:06</td>\n",
       "      <td>2510990164</td>\n",
       "      <td>🇬🇧Mytinyisland 🔱</td>\n",
       "      <td>454933267.0</td>\n",
       "      <td>reply</td>\n",
       "      <td>labour party</td>\n",
       "      <td>no</td>\n",
       "    </tr>\n",
       "    <tr>\n",
       "      <th>3</th>\n",
       "      <td>2019-12-07 10:10:36</td>\n",
       "      <td>997256304296189952</td>\n",
       "      <td>Southeast Cambs for Europe #FBPE #DefendDemocracy</td>\n",
       "      <td>925312700346970114</td>\n",
       "      <td>retweet</td>\n",
       "      <td>labour party</td>\n",
       "      <td>no</td>\n",
       "    </tr>\n",
       "    <tr>\n",
       "      <th>4</th>\n",
       "      <td>2019-12-07 09:24:20</td>\n",
       "      <td>128520495</td>\n",
       "      <td>Binita ⚡️</td>\n",
       "      <td>454933267.0</td>\n",
       "      <td>reply</td>\n",
       "      <td>labour party</td>\n",
       "      <td>no</td>\n",
       "    </tr>\n",
       "  </tbody>\n",
       "</table>\n",
       "</div>"
      ],
      "text/plain": [
       "            created_at             user_id  \\\n",
       "0  2019-11-29 12:09:16            46343365   \n",
       "1  2019-11-29 12:07:58            46343365   \n",
       "2  2019-12-07 16:17:06          2510990164   \n",
       "3  2019-12-07 10:10:36  997256304296189952   \n",
       "4  2019-12-07 09:24:20           128520495   \n",
       "\n",
       "                                           user_name              target  \\\n",
       "0                                      Chris Jackson          14802766.0   \n",
       "1                                      Chris Jackson          14802766.0   \n",
       "2                                   🇬🇧Mytinyisland 🔱         454933267.0   \n",
       "3  Southeast Cambs for Europe #FBPE #DefendDemocracy  925312700346970114   \n",
       "4                                          Binita ⚡️         454933267.0   \n",
       "\n",
       "       cat         party   brexit  \n",
       "0    reply       unknown  unknown  \n",
       "1    reply       unknown  unknown  \n",
       "2    reply  labour party       no  \n",
       "3  retweet  labour party       no  \n",
       "4    reply  labour party       no  "
      ]
     },
     "execution_count": 61,
     "metadata": {},
     "output_type": "execute_result"
    }
   ],
   "source": [
    "df.head()"
   ]
  },
  {
   "cell_type": "code",
   "execution_count": 60,
   "metadata": {},
   "outputs": [],
   "source": [
    "df.to_csv('data/edge.csv', index=False)"
   ]
  }
 ],
 "metadata": {
  "hide_input": false,
  "kernelspec": {
   "display_name": "Python 3",
   "language": "python",
   "name": "python3"
  },
  "varInspector": {
   "cols": {
    "lenName": 16,
    "lenType": 16,
    "lenVar": 40
   },
   "kernels_config": {
    "python": {
     "delete_cmd_postfix": "",
     "delete_cmd_prefix": "del ",
     "library": "var_list.py",
     "varRefreshCmd": "print(var_dic_list())"
    },
    "r": {
     "delete_cmd_postfix": ") ",
     "delete_cmd_prefix": "rm(",
     "library": "var_list.r",
     "varRefreshCmd": "cat(var_dic_list()) "
    }
   },
   "types_to_exclude": [
    "module",
    "function",
    "builtin_function_or_method",
    "instance",
    "_Feature"
   ],
   "window_display": false
  }
 },
 "nbformat": 4,
 "nbformat_minor": 2
}
